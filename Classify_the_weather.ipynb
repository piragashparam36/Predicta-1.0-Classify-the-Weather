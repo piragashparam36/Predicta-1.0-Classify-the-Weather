{
  "cells": [
    {
      "cell_type": "code",
      "execution_count": null,
      "metadata": {
        "id": "WkErd_75u6cT"
      },
      "outputs": [],
      "source": [
        "import pandas as pd"
      ]
    },
    {
      "cell_type": "code",
      "execution_count": null,
      "metadata": {
        "id": "x0bfMyH4vLSW"
      },
      "outputs": [],
      "source": [
        "from google.colab import drive\n",
        "drive.mount('/content/drive')"
      ]
    },
    {
      "cell_type": "code",
      "execution_count": null,
      "metadata": {
        "id": "JF_K21mZvLuY"
      },
      "outputs": [],
      "source": [
        "dailydata=pd.read_csv(\"/content/drive/MyDrive/Competitions/Predicta/Classify_the_weather/daily_data.csv\")\n",
        "dailydata.tail(10)"
      ]
    },
    {
      "cell_type": "code",
      "execution_count": null,
      "metadata": {
        "colab": {
          "base_uri": "https://localhost:8080/"
        },
        "id": "3JSy8cNVPUVE",
        "outputId": "fd602d6f-1151-448d-addf-1c98fc052b84"
      },
      "outputs": [
        {
          "data": {
            "text/plain": [
              "(2893, 17)"
            ]
          },
          "execution_count": 4,
          "metadata": {},
          "output_type": "execute_result"
        }
      ],
      "source": [
        "dailydata.shape"
      ]
    },
    {
      "cell_type": "code",
      "execution_count": null,
      "metadata": {
        "colab": {
          "background_save": true
        },
        "id": "aZe5G2qrvmwG"
      },
      "outputs": [],
      "source": [
        "submission=pd.read_csv(\"/content/drive/MyDrive/Competitions/Predicta/Classify_the_weather/submission.csv\")\n",
        "submission.tail(10)"
      ]
    },
    {
      "cell_type": "code",
      "execution_count": null,
      "metadata": {
        "id": "NDtw5mETxClJ"
      },
      "outputs": [],
      "source": [
        "dailydata.isna().sum()"
      ]
    },
    {
      "cell_type": "code",
      "execution_count": null,
      "metadata": {
        "id": "ogxTJreFyBqT"
      },
      "outputs": [],
      "source": [
        "def convert_to_numeric(time_str):\n",
        "    if 'AM' in time_str:\n",
        "        return int(time_str.split(':')[0])  # Extract hour for AM times\n",
        "    elif 'PM' in time_str:\n",
        "        hour = int(time_str.split(':')[0])\n",
        "        return hour + 12 if hour < 12 else hour  # Convert PM hour to 24-hour format\n",
        "    else:\n",
        "        return None  # Handle unexpected cases\n",
        "\n",
        "# Apply function to 'time' column\n",
        "dailydata['sunrise'] = dailydata['sunrise'].apply(convert_to_numeric)\n",
        "dailydata['sunset'] = dailydata['sunset'].apply(convert_to_numeric)\n",
        "\n",
        "# Print updated DataFrame\n",
        "print(dailydata)"
      ]
    },
    {
      "cell_type": "code",
      "execution_count": null,
      "metadata": {
        "id": "7EXgv0ll3zBJ"
      },
      "outputs": [],
      "source": [
        "from sklearn.preprocessing import StandardScaler\n",
        "# Initialize the StandardScaler\n",
        "scaler = StandardScaler()\n",
        "\n",
        "# Fit and transform the specified column\n",
        "dailydata['temperature_celsius'] = scaler.fit_transform(dailydata[['temperature_celsius']])\n",
        "dailydata['wind_kph'] = scaler.fit_transform(dailydata[['wind_kph']])\n",
        "dailydata['wind_degree'] = scaler.fit_transform(dailydata[['wind_degree']])\n",
        "dailydata['pressure_mb'] = scaler.fit_transform(dailydata[['pressure_mb']])\n",
        "dailydata['precip_mm'] = scaler.fit_transform(dailydata[['precip_mm']])\n",
        "dailydata['humidity'] = scaler.fit_transform(dailydata[['humidity']])\n",
        "dailydata['cloud'] = scaler.fit_transform(dailydata[['cloud']])\n",
        "dailydata['feels_like_celsius'] = scaler.fit_transform(dailydata[['feels_like_celsius']])\n",
        "dailydata['visibility_km'] = scaler.fit_transform(dailydata[['visibility_km']])\n",
        "dailydata['uv_index'] = scaler.fit_transform(dailydata[['uv_index']])\n",
        "dailydata['gust_kph'] = scaler.fit_transform(dailydata[['gust_kph']])\n",
        "dailydata['air_quality_us-epa-index'] = scaler.fit_transform(dailydata[['air_quality_us-epa-index']])\n",
        "dailydata['sunrise'] = scaler.fit_transform(dailydata[['sunrise']])\n",
        "dailydata['sunset'] = scaler.fit_transform(dailydata[['sunset']])\n",
        "print(dailydata)"
      ]
    },
    {
      "cell_type": "code",
      "execution_count": null,
      "metadata": {
        "id": "Nwr9RCnoH2z6"
      },
      "outputs": [],
      "source": [
        "dailydata=dailydata.drop([\"city_id\"],axis=1)"
      ]
    },
    {
      "cell_type": "code",
      "execution_count": null,
      "metadata": {
        "id": "9BZGXIsBGyBg"
      },
      "outputs": [],
      "source": [
        "df_to_predict= dailydata[dailydata['condition_text'].isnull()]\n",
        "df =dailydata[dailydata['condition_text'].notnull()]\n",
        "df_copy=df\n",
        "print(df_to_predict)"
      ]
    },
    {
      "cell_type": "code",
      "execution_count": null,
      "metadata": {
        "id": "02rXFWTB2UQ8"
      },
      "outputs": [],
      "source": [
        "unique_values = dailydata['condition_text'].unique()\n",
        "print(unique_values)"
      ]
    },
    {
      "cell_type": "code",
      "execution_count": null,
      "metadata": {
        "id": "9itzMMXhpw5b"
      },
      "outputs": [],
      "source": [
        "def encode_labels(df, column_name):\n",
        "\n",
        "    unique_labels = df[column_name].unique()\n",
        "    label_to_num = {label: num for num, label in enumerate(unique_labels)}\n",
        "    num_to_label = {num: label for label, num in label_to_num.items()}\n",
        "\n",
        "    df[column_name] = df[column_name].map(label_to_num)\n",
        "\n",
        "    return df, label_to_num, num_to_label\n",
        "\n",
        "def decode_labels(df, column_name, num_to_label):\n",
        "\n",
        "    df[column_name] = df[column_name].map(num_to_label)\n",
        "    return df\n",
        "\n",
        "\n",
        "\n"
      ]
    },
    {
      "cell_type": "code",
      "execution_count": null,
      "metadata": {
        "id": "Hn_K5OVlHzQO"
      },
      "outputs": [],
      "source": [
        "df_copy, label_to_num, num_to_label = encode_labels(df_copy, 'condition_text')\n",
        "df_copy.tail(20)\n",
        "# df.shape"
      ]
    },
    {
      "cell_type": "code",
      "execution_count": null,
      "metadata": {
        "id": "hs-GcD-XQeGo"
      },
      "outputs": [],
      "source": [
        "df_1=df_copy.drop(['day_id','condition_text'],axis=1)"
      ]
    },
    {
      "cell_type": "code",
      "execution_count": null,
      "metadata": {
        "id": "qnNN_M3qKeFa"
      },
      "outputs": [],
      "source": [
        "X=df_1\n",
        "print(X)"
      ]
    },
    {
      "cell_type": "code",
      "execution_count": null,
      "metadata": {
        "id": "4HbYhxUUQZxX"
      },
      "outputs": [],
      "source": [
        "y=df_copy['condition_text']\n",
        "y"
      ]
    },
    {
      "cell_type": "code",
      "execution_count": null,
      "metadata": {
        "id": "5uVgyZ0iJVKS"
      },
      "outputs": [],
      "source": [
        "import pandas as pd\n",
        "from sklearn.feature_selection import SelectKBest, f_classif\n",
        "from sklearn.model_selection import train_test_split\n",
        "from sklearn.ensemble import RandomForestClassifier\n",
        "from sklearn.metrics import accuracy_score\n",
        "\n",
        "# Split data into training and testing sets\n",
        "X_train, X_test, y_train, y_test = train_test_split(X, y, test_size=0.3, random_state=42)\n",
        "\n",
        "# Feature selection using SelectKBest with f_classif (ANOVA F-value between label/feature)\n",
        "selector = SelectKBest(score_func=f_classif, k=5)\n",
        "X_train_selected = selector.fit_transform(X_train, y_train)\n",
        "X_test_selected = selector.transform(X_test)\n",
        "\n",
        "# Get selected feature indices\n",
        "selected_indices = selector.get_support(indices=True)\n",
        "\n",
        "# Get selected feature names\n",
        "selected_feature_names = X.columns[selected_indices]\n",
        "print(\"Selected features:\", selected_feature_names)\n",
        "\n",
        "# Train a classifier on the selected features\n",
        "clf = RandomForestClassifier(random_state=42)\n",
        "clf.fit(X_train_selected, y_train)\n",
        "y_pred = clf.predict(X_test_selected)\n",
        "\n",
        "# Evaluate accuracy on test set\n",
        "accuracy = accuracy_score(y_test, y_pred)\n",
        "print(f'Test accuracy with selected features: {accuracy * 100:.2f}%')\n"
      ]
    },
    {
      "cell_type": "code",
      "execution_count": null,
      "metadata": {
        "id": "cthQbW1qKLa9"
      },
      "outputs": [],
      "source": [
        "X=X[['precip_mm', 'humidity', 'cloud', 'visibility_km',\n",
        "       'air_quality_us-epa-index']]\n",
        "print(X)"
      ]
    },
    {
      "cell_type": "code",
      "execution_count": null,
      "metadata": {
        "id": "vTOSJqpSTtV3"
      },
      "outputs": [],
      "source": [
        "from sklearn.model_selection import train_test_split\n",
        "\n",
        "X_train, X_test, y_train, y_test = train_test_split(X, y, test_size=0.2, random_state=42)"
      ]
    },
    {
      "cell_type": "code",
      "execution_count": null,
      "metadata": {
        "id": "hcXPq9G-UD0j"
      },
      "outputs": [],
      "source": [
        "import lightgbm as lgb\n",
        "from sklearn.metrics import accuracy_score, classification_report\n",
        "\n",
        "# Initialize LightGBM classifier\n",
        "lgb_clf = lgb.LGBMClassifier(\n",
        "    random_state=42,\n",
        "    num_leaves=31,\n",
        "    learning_rate=0.1,\n",
        "    n_estimators=100,\n",
        "    min_child_samples=20,\n",
        "    reg_alpha=0.1,\n",
        "    reg_lambda=0.1\n",
        ")\n",
        "\n",
        "# Train the model\n",
        "lgb_clf.fit(X_train, y_train)\n",
        "\n",
        "# Predictions\n",
        "y_pred = lgb_clf.predict(X_test)\n",
        "\n",
        "# Evaluate the model\n",
        "accuracy = accuracy_score(y_test, y_pred)\n",
        "print(f\"Model Accuracy: {accuracy}\")\n",
        "print(\"Classification Report:\")\n",
        "print(classification_report(y_test, y_pred))\n"
      ]
    },
    {
      "cell_type": "code",
      "execution_count": null,
      "metadata": {
        "colab": {
          "base_uri": "https://localhost:8080/"
        },
        "id": "x71nLMfPGwJo",
        "outputId": "f90205ca-bf08-4474-f9fd-b7ce75947c76"
      },
      "outputs": [
        {
          "name": "stdout",
          "output_type": "stream",
          "text": [
            "Accuracy: 62.50%\n"
          ]
        }
      ],
      "source": [
        "from sklearn.svm import SVC\n",
        "from sklearn.metrics import accuracy_score\n",
        "\n",
        "# Create SVM classifier\n",
        "svm_classifier = SVC(kernel='linear', C=1.0, random_state=42)\n",
        "\n",
        "# Train the model\n",
        "svm_classifier.fit(X_train, y_train)\n",
        "\n",
        "# Predict on test data\n",
        "y_pred = svm_classifier.predict(X_test)\n",
        "\n",
        "# Calculate accuracy\n",
        "accuracy = accuracy_score(y_test, y_pred)\n",
        "print(f\"Accuracy: {accuracy * 100:.2f}%\")\n"
      ]
    },
    {
      "cell_type": "code",
      "execution_count": null,
      "metadata": {
        "id": "q9E2tS9THYCV"
      },
      "outputs": [],
      "source": [
        "import numpy as np\n",
        "\n",
        "import xgboost as xgb\n",
        "from sklearn.metrics import accuracy_score\n",
        "\n",
        "# Create XGBoost classifier object\n",
        "xgb_model = xgb.XGBClassifier(objective='multi:softmax',  # Set the objective to multi-class classification\n",
        "                              num_class=3,  # Number of classes in the dataset\n",
        "                              eval_metric='merror',  # Evaluation metric (multi-class classification error rate)\n",
        "                              seed=42)  # Random seed for reproducibility\n",
        "\n",
        "# Train the model\n",
        "xgb_model.fit(X_train, y_train)\n",
        "\n",
        "# Predict on test data\n",
        "y_pred = xgb_model.predict(X_test)\n",
        "\n",
        "# Calculate accuracy\n",
        "\n",
        "accuracy = accuracy_score(y_test, y_pred)\n",
        "print(f\"Accuracy: {accuracy * 100:.2f}%\")\n"
      ]
    },
    {
      "cell_type": "code",
      "execution_count": null,
      "metadata": {
        "id": "t3bCNaen5ZBK"
      },
      "outputs": [],
      "source": [
        " pip install catboost"
      ]
    },
    {
      "cell_type": "code",
      "execution_count": null,
      "metadata": {
        "id": "18Z54KMjKxSq"
      },
      "outputs": [],
      "source": [
        "import numpy as np\n",
        "\n",
        "from catboost import CatBoostClassifier\n",
        "from sklearn.metrics import accuracy_score\n",
        "\n",
        "# Create CatBoost classifier object\n",
        "catboost_model = CatBoostClassifier(iterations=1000,  # Number of trees (boosting iterations)\n",
        "                                    learning_rate=0.1,  # Learning rate\n",
        "                                    depth=6,  # Depth of trees\n",
        "                                    loss_function='MultiClass',  # Multi-class classification\n",
        "                                    eval_metric='Accuracy',  # Metric to use\n",
        "                                    random_seed=42,  # Random seed for reproducibility\n",
        "                                    verbose=100  # Print progress every 100 iterations\n",
        "                                    )\n",
        "\n",
        "# Train the model\n",
        "catboost_model.fit(X_train, y_train, eval_set=(X_test, y_test))\n",
        "\n",
        "catboost_model.shrink(114)\n",
        "# Predict on test data\n",
        "y_pred = catboost_model.predict(X_test)\n",
        "\n",
        "# Calculate accuracy\n",
        "accuracy = accuracy_score(y_test, y_pred)\n",
        "print(f\"Accuracy: {accuracy * 100:.2f}%\")\n"
      ]
    },
    {
      "cell_type": "code",
      "execution_count": null,
      "metadata": {
        "id": "2tN_g_7Z8jDU"
      },
      "outputs": [],
      "source": [
        "from sklearn.ensemble import RandomForestClassifier\n",
        "from sklearn.metrics import classification_report, accuracy_score\n",
        "\n",
        "# Initialize the Random Forest classifier\n",
        "rf = RandomForestClassifier(n_estimators=100, random_state=42)\n",
        "\n",
        "# Train the classifier\n",
        "rf.fit(X_train, y_train)\n",
        "\n",
        "# Make predictions\n",
        "y_pred = rf.predict(X_test)\n",
        "\n",
        "# Evaluate the model\n",
        "accuracy = accuracy_score(y_test, y_pred)\n",
        "print(f'Accuracy: {accuracy:.2f}')\n",
        "\n",
        "\n",
        "\n"
      ]
    },
    {
      "cell_type": "code",
      "execution_count": null,
      "metadata": {
        "id": "jVJIGKS_CmrH"
      },
      "outputs": [],
      "source": [
        "from sklearn.tree import DecisionTreeClassifier\n",
        "from sklearn.metrics import accuracy_score, classification_report, confusion_matrix\n",
        "import matplotlib.pyplot as plt\n",
        "from sklearn.tree import plot_tree\n",
        "\n",
        "# Split the data into training and testing sets\n",
        "X_train, X_test, y_train, y_test = train_test_split(X, y, test_size=0.3, random_state=42)\n",
        "\n",
        "# Initialize the Decision Tree classifier\n",
        "clf = DecisionTreeClassifier(random_state=42)\n",
        "\n",
        "# Train the classifier\n",
        "clf.fit(X_train, y_train)\n",
        "\n",
        "# Make predictions\n",
        "y_pred = clf.predict(X_test)\n",
        "\n",
        "# Evaluate the model\n",
        "accuracy = accuracy_score(y_test, y_pred)\n",
        "print(f'Test accuracy: {accuracy * 100:.2f}%')\n"
      ]
    },
    {
      "cell_type": "code",
      "execution_count": null,
      "metadata": {
        "id": "UaBVNfPYSoLf"
      },
      "outputs": [],
      "source": [
        "df_2=df_to_predict.drop(['day_id','condition_text'],axis=1)\n",
        "df_2"
      ]
    },
    {
      "cell_type": "code",
      "execution_count": null,
      "metadata": {
        "id": "YWkq_-qUTRdg"
      },
      "outputs": [],
      "source": [
        "scaler = StandardScaler()\n",
        "\n",
        "# Fit and transform the specified column\n",
        "df_2['temperature_celsius'] = scaler.fit_transform(df_2[['temperature_celsius']])\n",
        "df_2['wind_kph'] = scaler.fit_transform(df_2[['wind_kph']])\n",
        "df_2['wind_degree'] = scaler.fit_transform(df_2[['wind_degree']])\n",
        "df_2['pressure_mb'] = scaler.fit_transform(df_2[['pressure_mb']])\n",
        "df_2['precip_mm'] = scaler.fit_transform(df_2[['precip_mm']])\n",
        "df_2['humidity'] = scaler.fit_transform(df_2[['humidity']])\n",
        "df_2['cloud'] = scaler.fit_transform(df_2[['cloud']])\n",
        "df_2['feels_like_celsius'] = scaler.fit_transform(df_2[['feels_like_celsius']])\n",
        "df_2['visibility_km'] = scaler.fit_transform(df_2[['visibility_km']])\n",
        "df_2['uv_index'] = scaler.fit_transform(df_2[['uv_index']])\n",
        "df_2['gust_kph'] = scaler.fit_transform(df_2[['gust_kph']])\n",
        "df_2['air_quality_us-epa-index'] = scaler.fit_transform(df_2[['air_quality_us-epa-index']])\n",
        "df_2['sunrise'] = scaler.fit_transform(df_2[['sunrise']])\n",
        "df_2['sunset'] = scaler.fit_transform(df_2[['sunset']])\n",
        "print(df_2)"
      ]
    },
    {
      "cell_type": "code",
      "execution_count": null,
      "metadata": {
        "id": "I43tS9hgPDrr"
      },
      "outputs": [],
      "source": [
        "df_3=df_2[['precip_mm', 'humidity', 'cloud', 'visibility_km',\n",
        "       'air_quality_us-epa-index']]\n",
        "print(df_3)"
      ]
    },
    {
      "cell_type": "code",
      "execution_count": null,
      "metadata": {
        "id": "Bc8pj-XCTeqz"
      },
      "outputs": [],
      "source": [
        "y_sol = xgb_model.predict(df_3)"
      ]
    },
    {
      "cell_type": "code",
      "execution_count": null,
      "metadata": {
        "id": "TdUYKvF6XFeM"
      },
      "outputs": [],
      "source": [
        "df_sol= pd.DataFrame(y_sol)\n",
        "df_sol = df_sol.add_prefix('df2_sol')\n",
        "print(df_sol)"
      ]
    },
    {
      "cell_type": "code",
      "execution_count": null,
      "metadata": {
        "id": "0w9uAZ7qZ912"
      },
      "outputs": [],
      "source": [
        "# Optionally reset indices to ensure they match\n",
        "df_to_predict = df_to_predict.drop(columns=\"condition_text\",axis=1)\n",
        "df_to_predict = df_to_predict.reset_index(drop=True)\n",
        "df_sol = df_sol.reset_index(drop=True)\n",
        "\n",
        "# Concatenate the data frames\n",
        "df_concat = pd.concat([df_to_predict, df_sol], axis=1)\n",
        "print(df_concat)\n",
        "df_concat.shape"
      ]
    },
    {
      "cell_type": "code",
      "execution_count": null,
      "metadata": {
        "id": "wp5MtTe7aqs5"
      },
      "outputs": [],
      "source": [
        "df_concat = df_concat.rename(columns={'df2_sol0': 'condition_text'})\n",
        "print(df_concat)"
      ]
    },
    {
      "cell_type": "code",
      "execution_count": null,
      "metadata": {
        "id": "8kpoP08-34RU"
      },
      "outputs": [],
      "source": [
        "# df_concat['condition_text']  = label_encoder.inverse_transform(df_concat['condition_text'])\n",
        "df_concat = decode_labels(df_concat, 'condition_text', num_to_label)\n",
        "# Add the decoded labels to the DataFrame\n",
        "print(df_concat)"
      ]
    },
    {
      "cell_type": "code",
      "execution_count": null,
      "metadata": {
        "id": "3n7T0Ji96KzW"
      },
      "outputs": [],
      "source": [
        "cols = list(df_concat.columns)\n",
        "\n",
        "#  Move the last column to the third position\n",
        "# Remove the last column and insert it at the third position (index 2)\n",
        "last_col = cols.pop(-1)\n",
        "cols.insert(2, last_col)\n",
        "\n",
        "# Reindex the DataFrame with the new column order\n",
        "df_concat = df_concat[cols]\n",
        "print(df_concat)"
      ]
    },
    {
      "cell_type": "code",
      "execution_count": null,
      "metadata": {
        "id": "Y2ToNsd20lhK"
      },
      "outputs": [],
      "source": [
        "df = decode_labels(df, 'condition_text', num_to_label)\n",
        "print(df)"
      ]
    },
    {
      "cell_type": "code",
      "execution_count": null,
      "metadata": {
        "id": "KYEtiNXT1K9a"
      },
      "outputs": [],
      "source": [
        "df_temp = pd.concat([df, df_concat], axis=0)\n",
        "print(df_temp)"
      ]
    },
    {
      "cell_type": "code",
      "execution_count": null,
      "metadata": {
        "id": "MM0J5Cil61Kk"
      },
      "outputs": [],
      "source": [
        "df_sorted = df_temp.sort_values(by='day_id')\n",
        "print(df_sorted)"
      ]
    },
    {
      "cell_type": "code",
      "execution_count": null,
      "metadata": {
        "id": "qvtZkIJn7Wbj"
      },
      "outputs": [],
      "source": [
        "df_fin=df_sorted[[\"day_id\",\"condition_text\"]]\n",
        "df_fin = df_fin.reset_index(drop=True)\n",
        "print(df_fin.head)"
      ]
    },
    {
      "cell_type": "code",
      "execution_count": null,
      "metadata": {
        "id": "963ML_xoSgU6"
      },
      "outputs": [],
      "source": [
        "df_fin.head()"
      ]
    },
    {
      "cell_type": "code",
      "execution_count": null,
      "metadata": {
        "id": "sBLoJV_58lSN"
      },
      "outputs": [],
      "source": [
        "df_fin.to_csv(\"prediction_01.csv\", index=False)"
      ]
    }
  ],
  "metadata": {
    "colab": {
      "provenance": []
    },
    "kernelspec": {
      "display_name": "Python 3",
      "name": "python3"
    },
    "language_info": {
      "name": "python"
    }
  },
  "nbformat": 4,
  "nbformat_minor": 0
}